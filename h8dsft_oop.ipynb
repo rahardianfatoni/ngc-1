{
  "nbformat": 4,
  "nbformat_minor": 0,
  "metadata": {
    "colab": {
      "provenance": [],
      "authorship_tag": "ABX9TyM4rj3S+6nhVUlFFN17jVDy",
      "include_colab_link": true
    },
    "kernelspec": {
      "name": "python3",
      "display_name": "Python 3"
    },
    "language_info": {
      "name": "python"
    }
  },
  "cells": [
    {
      "cell_type": "markdown",
      "metadata": {
        "id": "view-in-github",
        "colab_type": "text"
      },
      "source": [
        "<a href=\"https://colab.research.google.com/github/rahardianfatoni/ngc-1/blob/main/h8dsft_oop.ipynb\" target=\"_parent\"><img src=\"https://colab.research.google.com/assets/colab-badge.svg\" alt=\"Open In Colab\"/></a>"
      ]
    },
    {
      "cell_type": "markdown",
      "source": [
        "# Non Graded Challenge : OOP and Exception Handling"
      ],
      "metadata": {
        "id": "ZAI5L1zriZta"
      }
    },
    {
      "cell_type": "markdown",
      "source": [
        "Create a library catalog system using OOP. The system should allow users to add books to the catalog, search for books by title or author, and remove books from the catalog."
      ],
      "metadata": {
        "id": "BjpU0md8ipGS"
      }
    },
    {
      "cell_type": "markdown",
      "source": [
        "Requirements:</br>1. Each book should have a title, author, and unique identifier</br>2. The system should provide the following functionality:</br>● Adding a book to the catalog.</br>● Searching for books by title or author.</br>● Removing a book from the catalog.</br>● Displaying all books in the catalog.</br>3. Do the exception handling.\n"
      ],
      "metadata": {
        "id": "e6tgt2t-ivea"
      }
    },
    {
      "cell_type": "code",
      "source": [
        "class Library:\n",
        "  def __init__(self):\n",
        "    self.books = {}\n",
        "  def add_book(self, title, author, book_id):\n",
        "    if title in self.books:\n",
        "      print(\"That book already exist, if it's a different book please input a different ID.\")\n",
        "    elif book_id in self.books.values():\n",
        "      print(\"That ID is already used, please use a different one.\")\n",
        "    else:\n",
        "      self.books[title] = {author, int(book_id)}\n",
        "  def del_book(self, title):\n",
        "    del self.books[title]\n",
        "  def search_book_title(self, title):\n",
        "    for t, v in self.books.items():\n",
        "      if title in t:\n",
        "        print(self.books[title])\n",
        "      else:\n",
        "        pass\n",
        "  def search_book_author(self, author):\n",
        "    for title, aut in self.books.items():\n",
        "      print(title,aut)\n",
        "      if author in aut:\n",
        "        print(self.books[title])\n",
        "      else:\n",
        "        print(\"The author is not in the library\")\n",
        "  def display_books(self):\n",
        "    print(self.books)\n",
        "\n",
        "def main():\n",
        "    my_library = Library()\n",
        "    while True:\n",
        "      print(\"\")\n",
        "      print(\"Welcome to my library.\")\n",
        "      print(\"1. Display books.\")\n",
        "      print(\"2. Add book.\")\n",
        "      print(\"3. Search book (title).\")\n",
        "      print(\"4. Search book (author).\")\n",
        "      print(\"5. Remove book (title).\")\n",
        "      print(\"6. Quit\")\n",
        "      user_input = input(\"What do you want to do? (1-6): \")\n",
        "      if user_input == \"1\":\n",
        "        my_library.display_books()\n",
        "      elif user_input == \"2\":\n",
        "        user_title = input(\"Book title: \")\n",
        "        user_author = input(\"Author: \")\n",
        "        user_id = input(\"ID: \")\n",
        "        my_library.add_book(user_title, user_author, user_id)\n",
        "      elif user_input == \"3\":\n",
        "        user_title = input(\"Book title: \")\n",
        "        my_library.search_book_title(user_title)\n",
        "      elif user_input == \"4\":\n",
        "        user_author = input(\"Author: \")\n",
        "        my_library.search_book_author(user_author)\n",
        "      elif user_input == \"5\":\n",
        "        user_title = input(\"Book title: \")\n",
        "        my_library.del_book(user_title)\n",
        "      elif user_input == \"6\":\n",
        "        break\n",
        "      else:\n",
        "        print(\"Invalid input, please input 1=6.\")\n",
        "\n",
        "if __name__ == '__main__':\n",
        "  main()\n",
        "\n"
      ],
      "metadata": {
        "colab": {
          "base_uri": "https://localhost:8080/"
        },
        "id": "UsWIvaoVidjz",
        "outputId": "71fd7628-79e0-4f75-d4ce-8384680ff9d5"
      },
      "execution_count": null,
      
