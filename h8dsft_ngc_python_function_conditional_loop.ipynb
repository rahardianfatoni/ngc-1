{
  "nbformat": 4,
  "nbformat_minor": 0,
  "metadata": {
    "colab": {
      "provenance": [],
      "authorship_tag": "ABX9TyOMMRcKYgTXFn+9Tj6fv5LM",
      "include_colab_link": true
    },
    "kernelspec": {
      "name": "python3",
      "display_name": "Python 3"
    },
    "language_info": {
      "name": "python"
    }
  },
  "cells": [
    {
      "cell_type": "markdown",
      "metadata": {
        "id": "view-in-github",
        "colab_type": "text"
      },
      "source": [
        "<a href=\"https://colab.research.google.com/github/rahardianfatoni/ngc-1/blob/main/h8dsft_ngc_python_function_conditional_loop.ipynb\" target=\"_parent\"><img src=\"https://colab.research.google.com/assets/colab-badge.svg\" alt=\"Open In Colab\"/></a>"
      ]
    },
    {
      "cell_type": "markdown",
      "source": [
        "# Non-Graded Challenge 2"
      ],
      "metadata": {
        "id": "AHt5FeqgGSdx"
      }
    },
    {
      "cell_type": "markdown",
      "source": [
        "## Task 1 - Number of word"
      ],
      "metadata": {
        "id": "I86g-_0CGGpr"
      }
    },
    {
      "cell_type": "markdown",
      "source": [
        "Create a function that count the number of word in a sentence. Instruction: <br />1.Create function called `number_of_word`.\n",
        " <br />2.This function takes 1 input, `sentence`.\n",
        " <br />3.Inside this function, you can utilize `.split()` method to split the sentence into list of word(s).\n",
        "<br /> 4.Also, `len()` function to count the element inside a list.\n",
        " <br />5.Return the number of word from the sentence.\n",
        " Example:<br />-Input: number_of_word(sentence = ’Hello World!’)-Output: <br />2-Input: number_of_word(sentence = ’Once Upon a Time in a faraway land’)-Output: 8\n"
      ],
      "metadata": {
        "id": "CPazpXQqGatk"
      }
    },
    {
      "cell_type": "code",
      "source": [
        "def number_of_word(sentence):\n",
        "  words = sentence.split(\" \")\n",
        "  word_count = len(words)\n",
        "  return word_count\n",
        "\n",
        "output = number_of_word(\"Hello World!\")\n",
        "output2 = number_of_word(\"Once Upon a Time in a faraway land\")\n",
        "\n",
        "print(output)\n",
        "print(output2)"
      ],
      "metadata": {
        "colab": {
          "base_uri": "https://localhost:8080/"
        },
        "id": "s1zXxDzOGjAK",
        "outputId": "3a1fd5a0-3e8c-4384-95b5-21e56679125f"
      },
      "execution_count": 3,
      "outputs": [
        {
          "output_type": "stream",
          "name": "stdout",
          "text": [
            "2\n",
            "8\n"
          ]
        }
      ]
    },
    {
      "cell_type": "markdown",
      "source": [
        "## Task 2 - Find Multiple"
      ],
      "metadata": {
        "id": "GYQW2gysPxZF"
      }
    },
    {
      "cell_type": "markdown",
      "source": [
        "Create a function that will get list of number(s) from a certain range that multiples of given number.<br />Instruction:<br />1.Create function called `find_multiples`.<br />2.This function takes 3 input: `start_range`, `end_range`, and `multiple`.<br />3.From every number within the given range, check if that number is the mutliples of `multiple`.<br />4.Return list of the possible multiple number(s)."
      ],
      "metadata": {
        "id": "LwM7-5WCP-28"
      }
    },
    {
      "cell_type": "code",
      "source": [
        "def find_multiples(start_range, end_range, multiple):\n",
        "  if end_range % (start_range * multiple) == 0:\n",
        "    multiples = []\n",
        "    for i in range(start_range*multiple, end_range + start_range*multiple, multiple):\n",
        "      multiples.append(i)\n",
        "    return multiples\n",
        "  else:\n",
        "    return f\"{multiple} is not multiples of {end_range}\"\n",
        "\n",
        "output3 = find_multiples(1,100,5)\n",
        "output4 = find_multiples(1,100,6)\n",
        "print(output3)\n",
        "print(output4)"
      ],
      "metadata": {
        "colab": {
          "base_uri": "https://localhost:8080/"
        },
        "id": "17RDLrfmQEpJ",
        "outputId": "1d9a3d91-b31d-4152-c27d-6f4858f9ae73"
      },
      "execution_count": 10,
      "outputs": [
        {
          "output_type": "stream",
          "name": "stdout",
          "text": [
            "[5, 10, 15, 20, 25, 30, 35, 40, 45, 50, 55, 60, 65, 70, 75, 80, 85, 90, 95, 100]\n",
            "6 is not multiples of 100\n"
          ]
        }
      ]
    },
    {
      "cell_type": "markdown",
      "source": [
        "# Task 3 - Grade converter\n"
      ],
      "metadata": {
        "id": "Lma7qnBbTlKj"
      }
    },
    {
      "cell_type": "markdown",
      "source": [
        "Create a function that will convert student’s grade to GPA.<br />Instruction:<br />1.Create function called `Grade_Converter`.<br />2.This function takes input: `convert_to` and n-paired of student(s) name with its respective score.<br />3.Input argument for `convert_to` is either `letter_grade` or `gpa`.<br />4.You can utilize **kwargs input argument to generate n-length paired of student(s) name with its respective score (Dictionary).<br />5.This function will return dictionary of student’s name along with converted Letter Grade or GPA, depending on user input in `convert_to` parameter"
      ],
      "metadata": {
        "id": "VdYVBXc3UJ0o"
      }
    },
    {
      "cell_type": "code",
      "source": [
        "def Grade_Converter(convert_to, **name_score):\n",
        "  converted_grade = {}\n",
        "\n",
        "  def to_letter_grade(score):\n",
        "    if 85 <= score <= 100:\n",
        "      return 'A'\n",
        "    elif 70 <= score <= 84.99:\n",
        "      return 'B'\n",
        "    elif 60 <= score <= 69.99:\n",
        "      return 'C'\n",
        "    elif 50 <= score <= 59.99:\n",
        "      return 'D'\n",
        "    elif 40 <= score <= 49.99:\n",
        "      return \"E\"\n",
        "    elif 0 <= score <= 39.99:\n",
        "      return \"F\"\n",
        "\n",
        "  def to_gpa(score):\n",
        "    if 85 <= score <= 100:\n",
        "      return '4'\n",
        "    elif 70 <= score <= 84.99:\n",
        "      return '3'\n",
        "    elif 60 <= score <= 69.99:\n",
        "      return '2.5'\n",
        "    elif 50 <= score <= 59.99:\n",
        "      return '2'\n",
        "    elif 40 <= score <= 49.99:\n",
        "      return \"1.5\"\n",
        "    elif 0 <= score <= 39.99:\n",
        "      return \"1\"\n",
        "\n",
        "  for name, score in name_score.items():\n",
        "    if convert_to == \"letter_grade\":\n",
        "      to_letter_grade(score)\n",
        "      converted_grade[name] = to_letter_grade(score)\n",
        "    elif convert_to == 'gpa':\n",
        "      to_gpa(score)\n",
        "      converted_grade[name] = to_gpa(score)\n",
        "\n",
        "  print(converted_grade)\n",
        "\n",
        "Grade_Converter(convert_to='gpa', Adam=62, Faiz=91)\n",
        "Grade_Converter(convert_to='letter_grade', Albert=90, Dwi=82, Syahdan=58, Veronica=84)"
      ],
      "metadata": {
        "colab": {
          "base_uri": "https://localhost:8080/"
        },
        "id": "5URQLQjuTzlY",
        "outputId": "20f1b85c-830a-43b8-f219-11bf3c924db1"
      },
      "execution_count": 22,
      "outputs": [
        {
          "output_type": "stream",
          "name": "stdout",
          "text": [
            "{'Adam': '2.5', 'Faiz': '4'}\n",
            "{'Albert': 'A', 'Dwi': 'B', 'Syahdan': 'D', 'Veronica': 'B'}\n"
          ]
        }
      ]
    },
    {
      "cell_type": "markdown",
      "source": [
        "# Task 4 - Fibonacci Sequence"
      ],
      "metadata": {
        "id": "okSPy0IceRwc"
      }
    },
    {
      "cell_type": "markdown",
      "source": [
        "create a function that will return the value of n-th fibonacci number.Instruction:<br />1.The function will take 1 input parameter, n, represents the asked number from our fibonacci sequence index.<br />2.The fibonacci sequence will start with the value of 0 and 1.<br />3.This function will return the n-th value from fibonacci sequence."
      ],
      "metadata": {
        "id": "iRIXHth9eYeL"
      }
    },
    {
      "cell_type": "code",
      "source": [
        "def my_function(n):\n",
        "    fib_sequence = [0]\n",
        "    fib_n = n + 1\n",
        "    if fib_n > 0:\n",
        "        fib_sequence.append(1)\n",
        "    for i in range(2,fib_n):\n",
        "      next = fib_sequence[-2]+fib_sequence[-1]\n",
        "      fib_sequence.append(next)\n",
        "    print(fib_sequence)\n",
        "    print(fib_sequence[n])\n",
        "\n",
        "my_function(n=4)\n",
        "my_function(n=0)\n",
        "my_function(n=10)"
      ],
      "metadata": {
        "colab": {
          "base_uri": "https://localhost:8080/"
        },
        "id": "B3-HfdXBeVM_",
        "outputId": "825e8099-92ef-4a32-8b66-c351bdcb44fa"
      },
      "execution_count": 35,
      "outputs": [
        {
          "output_type": "stream",
          "name": "stdout",
          "text": [
            "[0, 1, 1, 2, 3]\n",
            "3\n",
            "[0, 1]\n",
            "0\n",
            "[0, 1, 1, 2, 3, 5, 8, 13, 21, 34, 55]\n",
            "55\n"
          ]
        }
      ]
    }
  ]
}