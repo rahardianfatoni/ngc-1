{
  "nbformat": 4,
  "nbformat_minor": 0,
  "metadata": {
    "colab": {
      "provenance": [],
      "authorship_tag": "ABX9TyPzrhxeZViSnqm8oNwetMQm",
      "include_colab_link": true
    },
    "kernelspec": {
      "name": "python3",
      "display_name": "Python 3"
    },
    "language_info": {
      "name": "python"
    }
  },
  "cells": [
    {
      "cell_type": "markdown",
      "metadata": {
        "id": "view-in-github",
        "colab_type": "text"
      },
      "source": [
        "<a href=\"https://colab.research.google.com/github/rahardianfatoni/ngc-1/blob/main/h8dsft_testing.ipynb\" target=\"_parent\"><img src=\"https://colab.research.google.com/assets/colab-badge.svg\" alt=\"Open In Colab\"/></a>"
      ]
    },
    {
      "cell_type": "markdown",
      "source": [
        "# Non-Graded Challenge 4 - Testing\n"
      ],
      "metadata": {
        "id": "kJJvhUCV5hRN"
      }
    },
    {
      "cell_type": "code",
      "execution_count": 2,
      "metadata": {
        "colab": {
          "base_uri": "https://localhost:8080/"
        },
        "id": "MN47eU215gny",
        "outputId": "a6c8a195-25fe-44c5-edda-606505f13847"
      },
      "outputs": [
        {
          "output_type": "stream",
          "name": "stdout",
          "text": [
            "2\n",
            "8\n"
          ]
        }
      ],
      "source": [
        "class Sentence:\n",
        "  def number_of_word(self, sentence):\n",
        "    words = sentence.split(\" \")\n",
        "    word_count = len(words)\n",
        "    return word_count\n",
        "\n",
        "my_sentence = Sentence()\n",
        "output1 = my_sentence.number_of_word(\"Hello World!\")\n",
        "output2 = my_sentence.number_of_word(\"Once Upon a Time in a faraway land\")"
      ]
    },
    {
      "cell_type": "markdown",
      "source": [
        "# Step by step membuat unit test python\n",
        "1. import unittest\n",
        "2. buat class dengan parent nya adalah\n",
        "    unittest.TestCase\n",
        "3. function sebanyak test case yang ingin diuji\n",
        "\n",
        "\n",
        "\n",
        "# Dalam testing\n",
        "- input itu harus terdefiniskan dari awal\n",
        "- process\n",
        "- output (harus tertampung ke variable)\n",
        "- output ini yang di test\n"
      ],
      "metadata": {
        "id": "NiqlwS8n7EYK"
      }
    },
    {
      "cell_type": "code",
      "source": [
        "import unittest\n",
        "\n",
        "class ExerciseTest(unittest.TestCase):\n",
        "  def test_count(self):\n",
        "    # Input\n",
        "    sentence = \"Hello World!\"\n",
        "    # Process & output\n",
        "    words = sentence.split(\" \")\n",
        "    word_count = len(words)\n",
        "    # Test\n",
        "    self.assertEqual(word_count, 2)\n",
        "\n",
        "# unittest.main()\n",
        "unittest.main(argv=['first-arg-is-ignored'], exit=False)"
      ],
      "metadata": {
        "colab": {
          "base_uri": "https://localhost:8080/"
        },
        "id": "vn1CYMwi50_E",
        "outputId": "acdd1fd8-c5ab-4a2b-de7b-4a45880fdb28"
      },
      "execution_count": 4,
      "outputs": [
        {
          "output_type": "stream",
          "name": "stderr",
          "text": [
            ".\n",
            "----------------------------------------------------------------------\n",
            "Ran 1 test in 0.003s\n",
            "\n",
            "OK\n"
          ]
        },
        {
          "output_type": "execute_result",
          "data": {
            "text/plain": [
              "<unittest.main.TestProgram at 0x7eb097e2ba90>"
            ]
          },
          "metadata": {},
          "execution_count": 4
        }
      ]
    }
  ]
}